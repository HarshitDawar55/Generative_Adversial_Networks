{
 "cells": [
  {
   "cell_type": "markdown",
   "id": "6c847908-fdf5-4514-a95d-a6fe4cfe8da4",
   "metadata": {},
   "source": [
    "# Wasserstein GAN (WGAN) by `Mr. Harshit Dawar!`\n",
    "* Addresses the following problems of DCGANs\n",
    "    * Mode Collapse\n",
    "    * Vanishing Gradient\n",
    "* It also requires less epochs to provide better results as compared to the DCGANs\n",
    "* It takes more time to train as compared to DCGANs"
   ]
  },
  {
   "cell_type": "code",
   "execution_count": null,
   "id": "ea6b6348-c2ac-4b3b-bf71-0a3fbf850820",
   "metadata": {},
   "outputs": [],
   "source": []
  }
 ],
 "metadata": {
  "kernelspec": {
   "display_name": "Python 3 (ipykernel)",
   "language": "python",
   "name": "python3"
  },
  "language_info": {
   "codemirror_mode": {
    "name": "ipython",
    "version": 3
   },
   "file_extension": ".py",
   "mimetype": "text/x-python",
   "name": "python",
   "nbconvert_exporter": "python",
   "pygments_lexer": "ipython3",
   "version": "3.10.9"
  }
 },
 "nbformat": 4,
 "nbformat_minor": 5
}
