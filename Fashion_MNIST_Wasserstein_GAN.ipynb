{
 "cells": [
  {
   "cell_type": "markdown",
   "id": "6c847908-fdf5-4514-a95d-a6fe4cfe8da4",
   "metadata": {},
   "source": [
    "# Wasserstein GAN (WGAN) by `Mr. Harshit Dawar!`\n",
    "* Addresses the following problems of DCGANs\n",
    "    * Mode Collapse\n",
    "    * Vanishing Gradient\n",
    "* It also requires less epochs to provide better results as compared to the DCGANs\n",
    "* It takes more time to train as compared to DCGANs"
   ]
  },
  {
   "cell_type": "code",
   "execution_count": 1,
   "id": "ea6b6348-c2ac-4b3b-bf71-0a3fbf850820",
   "metadata": {},
   "outputs": [],
   "source": [
    "# Importing the required libraries\n",
    "import numpy as np\n",
    "import matplotlib.pyplot as plt\n",
    "from tensorflow.keras import layers as ly\n",
    "import tensorflow as tf\n",
    "import os\n",
    "import time\n",
    "from IPython import display"
   ]
  },
  {
   "cell_type": "markdown",
   "id": "4d13dd34-bd76-4b40-9819-1f7a7feb8f4c",
   "metadata": {},
   "source": [
    "## Downloading the Fashion MNIST Dataset, processing it, & visualizing it"
   ]
  },
  {
   "cell_type": "code",
   "execution_count": 2,
   "id": "82120d75-6386-4ff0-be49-42c1daca98d2",
   "metadata": {},
   "outputs": [],
   "source": [
    "(X_train, y_train), (X_test, y_test) = tf.keras.datasets.fashion_mnist.load_data()"
   ]
  },
  {
   "cell_type": "code",
   "execution_count": 3,
   "id": "89cb0f83-cabf-49a7-a37b-a61151534d30",
   "metadata": {},
   "outputs": [
    {
     "data": {
      "text/plain": [
       "((60000, 28, 28), (60000,), (10000, 28, 28), (10000,))"
      ]
     },
     "execution_count": 3,
     "metadata": {},
     "output_type": "execute_result"
    }
   ],
   "source": [
    "X_train.shape, y_train.shape, X_test.shape, y_test.shape"
   ]
  },
  {
   "cell_type": "code",
   "execution_count": 4,
   "id": "ad6b20f3-825a-4002-8a26-58ac93eb0fcd",
   "metadata": {},
   "outputs": [
    {
     "data": {
      "image/png": "[encoded data removed]",
      "text/plain": [
       "<Figure size 640x480 with 1 Axes>"
      ]
     },
     "metadata": {},
     "output_type": "display_data"
    }
   ],
   "source": [
    "random_image = np.random.randint(0, X_train.shape[0])\n",
    "plt.imshow(X_train[random_image], cmap = \"gray\")\n",
    "plt.title(\"Category: \" + str(y_train[random_image]))\n",
    "plt.axis(\"off\")\n",
    "plt.show()"
   ]
  },
  {
   "cell_type": "code",
   "execution_count": 5,
   "id": "0e75fe3f-ee76-40a5-96a5-6acc25bf837b",
   "metadata": {},
   "outputs": [],
   "source": [
    "# Generating the 3rd Dimenstion for the image as per the requirement of the task\n",
    "X_train = np.expand_dims(X_train, -1)\n",
    "X_test = np.expand_dims(X_test, -1)\n",
    "X_train = X_train.astype(\"float32\")\n",
    "X_test = X_test.astype(\"float32\")"
   ]
  },
  {
   "cell_type": "code",
   "execution_count": 6,
   "id": "4456c237-7828-4c29-b0b6-7af44ed9200f",
   "metadata": {},
   "outputs": [],
   "source": [
    "# Normalizing the images between -1 to 1\n",
    "X_train = (X_train - 127.5) / 127.5"
   ]
  },
  {
   "cell_type": "code",
   "execution_count": 7,
   "id": "5c4a9fb6-61fa-4990-a9fe-882fc714879e",
   "metadata": {},
   "outputs": [
    {
     "data": {
      "text/plain": [
       "(-1.0, 1.0)"
      ]
     },
     "execution_count": 7,
     "metadata": {},
     "output_type": "execute_result"
    }
   ],
   "source": [
    "X_train.min(), X_train.max()"
   ]
  },
  {
   "cell_type": "code",
   "execution_count": 8,
   "id": "c1d71756-5abd-4725-8754-833efb6b6c00",
   "metadata": {},
   "outputs": [],
   "source": [
    "batch_size = 64\n",
    "total_images = X_train.shape[0]\n",
    "total_number_of_batches = total_images / batch_size"
   ]
  },
  {
   "cell_type": "code",
   "execution_count": 9,
   "id": "3f8c221d-6016-40e2-be24-b0ee4e6abb42",
   "metadata": {},
   "outputs": [
    {
     "data": {
      "text/plain": [
       "937.5"
      ]
     },
     "execution_count": 9,
     "metadata": {},
     "output_type": "execute_result"
    }
   ],
   "source": [
    "total_number_of_batches"
   ]
  },
  {
   "cell_type": "code",
   "execution_count": 10,
   "id": "c2c6d828-c584-4160-9947-fd74c7c2b294",
   "metadata": {},
   "outputs": [
    {
     "data": {
      "text/plain": [
       "dtype('float32')"
      ]
     },
     "execution_count": 10,
     "metadata": {},
     "output_type": "execute_result"
    }
   ],
   "source": [
    "X_train[0].dtype"
   ]
  },
  {
   "cell_type": "code",
   "execution_count": 11,
   "id": "0424de33-81e0-4802-ad4e-386003986078",
   "metadata": {},
   "outputs": [],
   "source": [
    "# Changing the type of X_train from numpy array to tensorflow batchdataset\n",
    "X_train = tf.data.Dataset.from_tensor_slices(X_train).shuffle(total_images).batch(batch_size)"
   ]
  },
  {
   "cell_type": "code",
   "execution_count": 12,
   "id": "6b9e77a3-6eba-4087-ba6a-262da6486534",
   "metadata": {},
   "outputs": [
    {
     "data": {
      "text/plain": [
       "tensorflow.python.data.ops.dataset_ops.BatchDataset"
      ]
     },
     "execution_count": 12,
     "metadata": {},
     "output_type": "execute_result"
    }
   ],
   "source": [
    "type(X_train)"
   ]
  },
  {
   "cell_type": "code",
   "execution_count": null,
   "id": "d370e990-57e5-4b45-8a43-2cda08781107",
   "metadata": {},
   "outputs": [],
   "source": []
  }
 ],
 "metadata": {
  "kernelspec": {
   "display_name": "Python 3 (ipykernel)",
   "language": "python",
   "name": "python3"
  },
  "language_info": {
   "codemirror_mode": {
    "name": "ipython",
    "version": 3
   },
   "file_extension": ".py",
   "mimetype": "text/x-python",
   "name": "python",
   "nbconvert_exporter": "python",
   "pygments_lexer": "ipython3",
   "version": "3.10.9"
  }
 },
 "nbformat": 4,
 "nbformat_minor": 5
}
