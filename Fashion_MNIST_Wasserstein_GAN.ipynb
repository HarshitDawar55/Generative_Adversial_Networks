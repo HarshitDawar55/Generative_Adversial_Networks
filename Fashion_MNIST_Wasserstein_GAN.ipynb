{
 "cells": [
  {
   "cell_type": "markdown",
   "id": "6c847908-fdf5-4514-a95d-a6fe4cfe8da4",
   "metadata": {},
   "source": [
    "# Wasserstein GAN (WGAN) by `Mr. Harshit Dawar!`\n",
    "* Addresses the following problems of DCGANs\n",
    "    * Mode Collapse\n",
    "    * Vanishing Gradient\n",
    "* It also requires less epochs to provide better results as compared to the DCGANs\n",
    "* It takes more time to train as compared to DCGANs"
   ]
  },
  {
   "cell_type": "code",
   "execution_count": 1,
   "id": "ea6b6348-c2ac-4b3b-bf71-0a3fbf850820",
   "metadata": {},
   "outputs": [],
   "source": [
    "# Importing the required libraries\n",
    "import numpy as np\n",
    "import matplotlib.pyplot as plt\n",
    "from tensorflow.keras import layers as ly\n",
    "import tensorflow as tf\n",
    "import os\n",
    "import time\n",
    "from IPython import display"
   ]
  },
  {
   "cell_type": "markdown",
   "id": "4d13dd34-bd76-4b40-9819-1f7a7feb8f4c",
   "metadata": {},
   "source": [
    "## Downloading the Fashion MNIST Dataset, processing it, & visualizing it"
   ]
  },
  {
   "cell_type": "code",
   "execution_count": 2,
   "id": "82120d75-6386-4ff0-be49-42c1daca98d2",
   "metadata": {},
   "outputs": [],
   "source": [
    "(X_train, y_train), (X_test, y_test) = tf.keras.datasets.fashion_mnist.load_data()"
   ]
  },
  {
   "cell_type": "code",
   "execution_count": 3,
   "id": "89cb0f83-cabf-49a7-a37b-a61151534d30",
   "metadata": {},
   "outputs": [
    {
     "data": {
      "text/plain": [
       "((60000, 28, 28), (60000,), (10000, 28, 28), (10000,))"
      ]
     },
     "execution_count": 3,
     "metadata": {},
     "output_type": "execute_result"
    }
   ],
   "source": [
    "X_train.shape, y_train.shape, X_test.shape, y_test.shape"
   ]
  },
  {
   "cell_type": "code",
   "execution_count": 4,
   "id": "ad6b20f3-825a-4002-8a26-58ac93eb0fcd",
   "metadata": {},
   "outputs": [
    {
     "data": {
      "image/png": "[encoded data removed]",
      "text/plain": [
       "<Figure size 640x480 with 1 Axes>"
      ]
     },
     "metadata": {},
     "output_type": "display_data"
    }
   ],
   "source": [
    "random_image = np.random.randint(0, X_train.shape[0])\n",
    "plt.imshow(X_train[random_image], cmap = \"gray\")\n",
    "plt.title(\"Category: \" + str(y_train[random_image]))\n",
    "plt.axis(\"off\")\n",
    "plt.show()"
   ]
  },
  {
   "cell_type": "code",
   "execution_count": 5,
   "id": "0e75fe3f-ee76-40a5-96a5-6acc25bf837b",
   "metadata": {},
   "outputs": [],
   "source": [
    "# Generating the 3rd Dimenstion for the image as per the requirement of the task\n",
    "X_train = np.expand_dims(X_train, -1)\n",
    "X_test = np.expand_dims(X_test, -1)\n",
    "X_train = X_train.astype(\"float32\")\n",
    "X_test = X_test.astype(\"float32\")"
   ]
  },
  {
   "cell_type": "code",
   "execution_count": 6,
   "id": "4456c237-7828-4c29-b0b6-7af44ed9200f",
   "metadata": {},
   "outputs": [],
   "source": [
    "# Normalizing the images between -1 to 1\n",
    "X_train = (X_train - 127.5) / 127.5"
   ]
  },
  {
   "cell_type": "code",
   "execution_count": 7,
   "id": "5c4a9fb6-61fa-4990-a9fe-882fc714879e",
   "metadata": {},
   "outputs": [
    {
     "data": {
      "text/plain": [
       "(-1.0, 1.0)"
      ]
     },
     "execution_count": 7,
     "metadata": {},
     "output_type": "execute_result"
    }
   ],
   "source": [
    "X_train.min(), X_train.max()"
   ]
  },
  {
   "cell_type": "code",
   "execution_count": 8,
   "id": "c1d71756-5abd-4725-8754-833efb6b6c00",
   "metadata": {},
   "outputs": [],
   "source": [
    "batch_size = 64\n",
    "total_images = X_train.shape[0]\n",
    "total_number_of_batches = total_images / batch_size"
   ]
  },
  {
   "cell_type": "code",
   "execution_count": 9,
   "id": "3f8c221d-6016-40e2-be24-b0ee4e6abb42",
   "metadata": {},
   "outputs": [
    {
     "data": {
      "text/plain": [
       "937.5"
      ]
     },
     "execution_count": 9,
     "metadata": {},
     "output_type": "execute_result"
    }
   ],
   "source": [
    "total_number_of_batches"
   ]
  },
  {
   "cell_type": "code",
   "execution_count": 10,
   "id": "c2c6d828-c584-4160-9947-fd74c7c2b294",
   "metadata": {},
   "outputs": [
    {
     "data": {
      "text/plain": [
       "dtype('float32')"
      ]
     },
     "execution_count": 10,
     "metadata": {},
     "output_type": "execute_result"
    }
   ],
   "source": [
    "X_train[0].dtype"
   ]
  },
  {
   "cell_type": "code",
   "execution_count": 11,
   "id": "0424de33-81e0-4802-ad4e-386003986078",
   "metadata": {},
   "outputs": [],
   "source": [
    "# Changing the type of X_train from numpy array to tensorflow batchdataset\n",
    "X_train = tf.data.Dataset.from_tensor_slices(X_train).shuffle(total_images).batch(batch_size)"
   ]
  },
  {
   "cell_type": "code",
   "execution_count": 12,
   "id": "6b9e77a3-6eba-4087-ba6a-262da6486534",
   "metadata": {},
   "outputs": [
    {
     "data": {
      "text/plain": [
       "tensorflow.python.data.ops.dataset_ops.BatchDataset"
      ]
     },
     "execution_count": 12,
     "metadata": {},
     "output_type": "execute_result"
    }
   ],
   "source": [
    "type(X_train)"
   ]
  },
  {
   "cell_type": "markdown",
   "id": "5ecc5154-a8d7-43bb-975b-cba0cf677ddd",
   "metadata": {},
   "source": [
    "## Creating the Generator for the WGAN\n",
    "* It is same as DCGANs"
   ]
  },
  {
   "cell_type": "code",
   "execution_count": 17,
   "id": "aed6caff-2071-4346-ab58-5863221d42bb",
   "metadata": {},
   "outputs": [],
   "source": [
    "def generator_builder():\n",
    "    model = tf.keras.Sequential()\n",
    "    \n",
    "    # For the Random Noise/Image of a vector shape of 100 \n",
    "    model.add(ly.Dense(units = 7 * 7 * 256, use_bias = False, input_shape = (100, )))\n",
    "    model.add(ly.BatchNormalization())\n",
    "    model.add(ly.LeakyReLU())\n",
    "    \n",
    "    # To Reshape the above flattened vector\n",
    "    model.add(ly.Reshape((7, 7, 256)))\n",
    "    \n",
    "    # Conv2DTranspose Block 1 for generating a bigger image : Image size is 7x7x256\n",
    "    model.add(ly.Conv2DTranspose(filters = 256, kernel_size = (3, 3), padding = \"same\", use_bias = False))\n",
    "    model.add(ly.BatchNormalization())\n",
    "    model.add(ly.LeakyReLU())\n",
    "    \n",
    "    # Conv2DTranspose Block 2 for generating a bigger image : Image size is 14x14x64\n",
    "    model.add(ly.Conv2DTranspose(filters = 64, kernel_size = (3, 3), padding = \"same\", strides = (2, 2), use_bias = False))\n",
    "    model.add(ly.BatchNormalization())\n",
    "    model.add(ly.LeakyReLU())\n",
    "    \n",
    "    # Conv2DTranspose Block 3 for generating a bigger image : Image size is 28x28x1\n",
    "    model.add(ly.Conv2DTranspose(filters = 1, kernel_size = (3, 3), padding = \"same\", strides = (2, 2), use_bias = True, activation = \"tanh\"))\n",
    "    \n",
    "    model.summary()\n",
    "    return model"
   ]
  },
  {
   "cell_type": "code",
   "execution_count": 18,
   "id": "38f7061d-6264-4cb7-876f-c949da601a71",
   "metadata": {},
   "outputs": [
    {
     "name": "stdout",
     "output_type": "stream",
     "text": [
      "Model: \"sequential_2\"\n",
      "_________________________________________________________________\n",
      " Layer (type)                Output Shape              Param #   \n",
      "=================================================================\n",
      " dense_2 (Dense)             (None, 12544)             1254400   \n",
      "                                                                 \n",
      " batch_normalization_6 (Batc  (None, 12544)            50176     \n",
      " hNormalization)                                                 \n",
      "                                                                 \n",
      " leaky_re_lu_6 (LeakyReLU)   (None, 12544)             0         \n",
      "                                                                 \n",
      " reshape_2 (Reshape)         (None, 7, 7, 256)         0         \n",
      "                                                                 \n",
      " conv2d_transpose_6 (Conv2DT  (None, 7, 7, 256)        589824    \n",
      " ranspose)                                                       \n",
      "                                                                 \n",
      " batch_normalization_7 (Batc  (None, 7, 7, 256)        1024      \n",
      " hNormalization)                                                 \n",
      "                                                                 \n",
      " leaky_re_lu_7 (LeakyReLU)   (None, 7, 7, 256)         0         \n",
      "                                                                 \n",
      " conv2d_transpose_7 (Conv2DT  (None, 14, 14, 64)       147456    \n",
      " ranspose)                                                       \n",
      "                                                                 \n",
      " batch_normalization_8 (Batc  (None, 14, 14, 64)       256       \n",
      " hNormalization)                                                 \n",
      "                                                                 \n",
      " leaky_re_lu_8 (LeakyReLU)   (None, 14, 14, 64)        0         \n",
      "                                                                 \n",
      " conv2d_transpose_8 (Conv2DT  (None, 28, 28, 1)        577       \n",
      " ranspose)                                                       \n",
      "                                                                 \n",
      "=================================================================\n",
      "Total params: 2,043,713\n",
      "Trainable params: 2,017,985\n",
      "Non-trainable params: 25,728\n",
      "_________________________________________________________________\n"
     ]
    }
   ],
   "source": [
    "# Defining a generator\n",
    "generator = generator_builder()"
   ]
  },
  {
   "cell_type": "code",
   "execution_count": 19,
   "id": "e94f8199-5c74-4235-86a9-c155c47b832e",
   "metadata": {},
   "outputs": [
    {
     "data": {
      "text/plain": [
       "<tf.Tensor: shape=(1, 100), dtype=float32, numpy=\n",
       "array([[ 0.44256973, -1.417305  , -0.12087763, -0.8255383 ,  1.4733219 ,\n",
       "        -0.03573745,  0.05656287, -0.68998   ,  1.1807369 ,  0.45201555,\n",
       "         1.938813  ,  1.0468434 ,  0.7665597 ,  0.31601104, -1.0328954 ,\n",
       "         0.3339553 ,  2.1407585 , -3.0317893 , -0.02570817,  0.86685544,\n",
       "        -0.85074234,  0.25373057, -0.6900784 , -0.21215507,  0.71538836,\n",
       "         2.3438647 ,  1.4779005 ,  0.9065585 ,  0.77689207,  1.3629977 ,\n",
       "         1.6282281 ,  0.07584841,  1.7804182 ,  1.1475476 ,  0.6730785 ,\n",
       "         0.9188278 , -0.87963   ,  0.20840287, -0.5806772 ,  0.22099124,\n",
       "         0.5596699 ,  0.24579237,  0.14380522, -2.286408  , -0.02999567,\n",
       "        -0.31157914, -0.63642526, -0.48491377,  0.64081275, -0.35369644,\n",
       "        -0.5675317 ,  1.196602  , -1.15186   ,  0.5807919 ,  1.3920268 ,\n",
       "         1.1019497 , -0.51390994, -1.401124  ,  1.9662247 ,  0.7533127 ,\n",
       "         0.9134926 , -0.5820843 , -0.22057028,  2.0670514 , -2.3154678 ,\n",
       "         0.33012804,  0.9041787 , -0.17902027,  0.24304403,  0.28749803,\n",
       "        -1.1674299 ,  0.5899962 , -0.09183747,  1.0193759 ,  1.7505481 ,\n",
       "        -0.4642911 ,  2.2410743 ,  0.18783131, -0.8518852 , -2.6509235 ,\n",
       "        -1.3985262 ,  1.3055266 ,  0.46961543, -1.4267505 ,  2.0795293 ,\n",
       "        -1.3023356 ,  0.93600863,  0.5461196 , -0.32651418,  0.3090406 ,\n",
       "         0.09237487, -1.0941672 ,  1.6805999 ,  1.0807023 , -0.29282767,\n",
       "         0.8946609 ,  1.1203636 ,  0.31713006,  2.0610015 , -1.2858615 ]],\n",
       "      dtype=float32)>"
      ]
     },
     "execution_count": 19,
     "metadata": {},
     "output_type": "execute_result"
    }
   ],
   "source": [
    "random_noise = tf.random.normal([1, 100])\n",
    "random_noise"
   ]
  },
  {
   "cell_type": "code",
   "execution_count": 20,
   "id": "cf7f565e-a2d6-4f27-8eca-e4b157e9623f",
   "metadata": {},
   "outputs": [],
   "source": [
    "random_image_generated_from_generator = generator(random_noise, training = False)"
   ]
  },
  {
   "cell_type": "code",
   "execution_count": 21,
   "id": "91e5ef56-73ef-425d-a9eb-402cb1bbea5d",
   "metadata": {},
   "outputs": [
    {
     "data": {
      "text/plain": [
       "TensorShape([1, 28, 28, 1])"
      ]
     },
     "execution_count": 21,
     "metadata": {},
     "output_type": "execute_result"
    }
   ],
   "source": [
    "random_image_generated_from_generator.shape"
   ]
  },
  {
   "cell_type": "code",
   "execution_count": 22,
   "id": "cee2c78d-a3f7-4c5c-9cff-6fda1b6a49dd",
   "metadata": {},
   "outputs": [
    {
     "data": {
      "image/png": "[encoded data removed]",
      "text/plain": [
       "<Figure size 640x480 with 1 Axes>"
      ]
     },
     "metadata": {},
     "output_type": "display_data"
    }
   ],
   "source": [
    "plt.imshow(random_image_generated_from_generator[0], cmap = \"gray\")\n",
    "plt.axis(\"off\")\n",
    "plt.show()"
   ]
  },
  {
   "cell_type": "code",
   "execution_count": null,
   "id": "6663d4f9-f8e8-40e5-a860-4b88f6850e6f",
   "metadata": {},
   "outputs": [],
   "source": []
  }
 ],
 "metadata": {
  "kernelspec": {
   "display_name": "Python 3 (ipykernel)",
   "language": "python",
   "name": "python3"
  },
  "language_info": {
   "codemirror_mode": {
    "name": "ipython",
    "version": 3
   },
   "file_extension": ".py",
   "mimetype": "text/x-python",
   "name": "python",
   "nbconvert_exporter": "python",
   "pygments_lexer": "ipython3",
   "version": "3.10.9"
  }
 },
 "nbformat": 4,
 "nbformat_minor": 5
}
