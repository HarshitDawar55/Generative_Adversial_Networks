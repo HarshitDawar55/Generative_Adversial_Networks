{
 "cells": [
  {
   "cell_type": "markdown",
   "id": "d3eb7c59-af90-4851-9a4e-4f3d1677632a",
   "metadata": {},
   "source": [
    "# Deep Convolutional GANs (DCGANs) by `Mr. Harshit Dawar!`"
   ]
  },
  {
   "cell_type": "code",
   "execution_count": 2,
   "id": "93031cd4-50b8-4562-a15b-8819c2236abe",
   "metadata": {},
   "outputs": [],
   "source": [
    "import numpy as np\n",
    "import matplotlib.pyplot as plt\n",
    "from tensorflow.keras import layers as ly\n",
    "import tensorflow as tf"
   ]
  },
  {
   "cell_type": "markdown",
   "id": "c224c5fb-b679-464e-ab54-07874a9cf1b5",
   "metadata": {},
   "source": [
    "## Loading the dataset & Visualizing it!"
   ]
  },
  {
   "cell_type": "code",
   "execution_count": 97,
   "id": "99792d42-99ff-4efd-b604-949cce1a41fc",
   "metadata": {},
   "outputs": [],
   "source": [
    "(X_train, y_train), (X_test, y_test) = tf.keras.datasets.fashion_mnist.load_data()"
   ]
  },
  {
   "cell_type": "code",
   "execution_count": 98,
   "id": "a7b6ab21-3795-4033-9bfc-d9a12234e132",
   "metadata": {},
   "outputs": [
    {
     "data": {
      "text/plain": [
       "((60000, 28, 28), (60000,), (10000, 28, 28), (10000,))"
      ]
     },
     "execution_count": 98,
     "metadata": {},
     "output_type": "execute_result"
    }
   ],
   "source": [
    "X_train.shape, y_train.shape, X_test.shape, y_test.shape"
   ]
  },
  {
   "cell_type": "code",
   "execution_count": 99,
   "id": "8c2cd49e-7d12-42eb-9f43-a0c53a75a04a",
   "metadata": {},
   "outputs": [
    {
     "data": {
      "image/png": "[encoded data removed]",
      "text/plain": [
       "<Figure size 640x480 with 1 Axes>"
      ]
     },
     "metadata": {},
     "output_type": "display_data"
    }
   ],
   "source": [
    "random_image = np.random.randint(0, X_train.shape[0])\n",
    "plt.imshow(X_train[random_image], cmap = \"gray\")\n",
    "plt.title(\"Category: \" + str(y_train[random_image]))\n",
    "plt.axis(\"off\")\n",
    "plt.show()"
   ]
  },
  {
   "cell_type": "code",
   "execution_count": 100,
   "id": "b2cbedd3-cc91-4338-a14e-9ff13be85f29",
   "metadata": {},
   "outputs": [],
   "source": [
    "# Generating the 3rd Dimenstion for the image as per the requirement of the task\n",
    "X_train = np.expand_dims(X_train, -1)\n",
    "X_test = np.expand_dims(X_test, -1)\n",
    "# X_train = X_train.reshape(X_train.shape[0], 28, 28, 1).astype('float32')\n",
    "# X_test = X_test.reshape(X_test.shape[0], 28, 28, 1).astype('float32')"
   ]
  },
  {
   "cell_type": "code",
   "execution_count": 101,
   "id": "e0f6ae86-f77c-40bd-802d-5388a95c6009",
   "metadata": {},
   "outputs": [],
   "source": [
    "X_train = X_train.astype(\"float32\")\n",
    "X_test = X_test.astype(\"float32\")\n",
    "# X_train = tf.convert_to_tensor(X_train, dtype = tf.int64)\n",
    "# X_test = tf.convert_to_tensor(X_test, dtype = tf.int64)"
   ]
  },
  {
   "cell_type": "code",
   "execution_count": 102,
   "id": "871fe655-776c-4eba-93a1-ddab481b67c5",
   "metadata": {},
   "outputs": [
    {
     "data": {
      "text/plain": [
       "((60000, 28, 28, 1), (10000, 28, 28, 1))"
      ]
     },
     "execution_count": 102,
     "metadata": {},
     "output_type": "execute_result"
    }
   ],
   "source": [
    "X_train.shape, X_test.shape"
   ]
  },
  {
   "cell_type": "code",
   "execution_count": 103,
   "id": "4edf3c85-8bfc-41aa-aa19-35e53d4c5b17",
   "metadata": {},
   "outputs": [],
   "source": [
    "# Normalizing the images between -1 to 1\n",
    "X_train = (X_train - 127.5) / 127.5"
   ]
  },
  {
   "cell_type": "code",
   "execution_count": 104,
   "id": "5c811031-5d8d-407f-938b-a0741f4653b3",
   "metadata": {},
   "outputs": [
    {
     "data": {
      "text/plain": [
       "(-1.0, 1.0)"
      ]
     },
     "execution_count": 104,
     "metadata": {},
     "output_type": "execute_result"
    }
   ],
   "source": [
    "X_train.min(), X_train.max()"
   ]
  },
  {
   "cell_type": "code",
   "execution_count": 105,
   "id": "1b04a17a-a47a-407c-8da2-654ac901498b",
   "metadata": {},
   "outputs": [],
   "source": [
    "batch_size = 64\n",
    "total_images = X_train.shape[0]\n",
    "total_number_of_batches = total_images / batch_size"
   ]
  },
  {
   "cell_type": "code",
   "execution_count": 106,
   "id": "65db06f7-cb2b-4d97-999b-0bc7b25e3cdd",
   "metadata": {},
   "outputs": [
    {
     "data": {
      "text/plain": [
       "937.5"
      ]
     },
     "execution_count": 106,
     "metadata": {},
     "output_type": "execute_result"
    }
   ],
   "source": [
    "total_number_of_batches"
   ]
  },
  {
   "cell_type": "code",
   "execution_count": 107,
   "id": "ec4d343e-6a2c-4ec0-a7be-0c8e0a20304c",
   "metadata": {},
   "outputs": [
    {
     "data": {
      "text/plain": [
       "dtype('float32')"
      ]
     },
     "execution_count": 107,
     "metadata": {},
     "output_type": "execute_result"
    }
   ],
   "source": [
    "X_train[0].dtype"
   ]
  },
  {
   "cell_type": "code",
   "execution_count": 108,
   "id": "ef565658-e7ee-4eb0-bc8e-e52f63275890",
   "metadata": {},
   "outputs": [],
   "source": [
    "# Changing the type of X_train from numpy array to tensorflow batchdataset\n",
    "X_train = tf.data.Dataset.from_tensor_slices(X_train).shuffle(total_images).batch(batch_size)"
   ]
  },
  {
   "cell_type": "code",
   "execution_count": 109,
   "id": "960a7c24-edcd-49c6-a6ac-36a9724ba064",
   "metadata": {},
   "outputs": [
    {
     "data": {
      "text/plain": [
       "tensorflow.python.data.ops.dataset_ops.BatchDataset"
      ]
     },
     "execution_count": 109,
     "metadata": {},
     "output_type": "execute_result"
    }
   ],
   "source": [
    "type(X_train)"
   ]
  },
  {
   "cell_type": "markdown",
   "id": "187eaa1a-1793-47fe-b2c5-ba71be120666",
   "metadata": {},
   "source": [
    "## Creating the Generator for the GANs"
   ]
  },
  {
   "cell_type": "code",
   "execution_count": null,
   "id": "b163acde-8418-4c4c-9d87-2f33bc64b243",
   "metadata": {},
   "outputs": [],
   "source": []
  }
 ],
 "metadata": {
  "kernelspec": {
   "display_name": "Python 3 (ipykernel)",
   "language": "python",
   "name": "python3"
  },
  "language_info": {
   "codemirror_mode": {
    "name": "ipython",
    "version": 3
   },
   "file_extension": ".py",
   "mimetype": "text/x-python",
   "name": "python",
   "nbconvert_exporter": "python",
   "pygments_lexer": "ipython3",
   "version": "3.10.9"
  }
 },
 "nbformat": 4,
 "nbformat_minor": 5
}
