{
 "cells": [
  {
   "cell_type": "markdown",
   "id": "d3eb7c59-af90-4851-9a4e-4f3d1677632a",
   "metadata": {},
   "source": [
    "# Deep Convolutional GANs (DCGANs) by `Mr. Harshit Dawar!`"
   ]
  },
  {
   "cell_type": "code",
   "execution_count": 2,
   "id": "93031cd4-50b8-4562-a15b-8819c2236abe",
   "metadata": {},
   "outputs": [],
   "source": [
    "import numpy as np\n",
    "import matplotlib.pyplot as plt\n",
    "from tensorflow.keras import layers as ly\n",
    "import tensorflow as tf"
   ]
  },
  {
   "cell_type": "markdown",
   "id": "c224c5fb-b679-464e-ab54-07874a9cf1b5",
   "metadata": {},
   "source": [
    "## Loading the dataset & Visualizing it!"
   ]
  },
  {
   "cell_type": "code",
   "execution_count": 97,
   "id": "99792d42-99ff-4efd-b604-949cce1a41fc",
   "metadata": {},
   "outputs": [],
   "source": [
    "(X_train, y_train), (X_test, y_test) = tf.keras.datasets.fashion_mnist.load_data()"
   ]
  },
  {
   "cell_type": "code",
   "execution_count": 98,
   "id": "a7b6ab21-3795-4033-9bfc-d9a12234e132",
   "metadata": {},
   "outputs": [
    {
     "data": {
      "text/plain": [
       "((60000, 28, 28), (60000,), (10000, 28, 28), (10000,))"
      ]
     },
     "execution_count": 98,
     "metadata": {},
     "output_type": "execute_result"
    }
   ],
   "source": [
    "X_train.shape, y_train.shape, X_test.shape, y_test.shape"
   ]
  },
  {
   "cell_type": "code",
   "execution_count": 99,
   "id": "8c2cd49e-7d12-42eb-9f43-a0c53a75a04a",
   "metadata": {},
   "outputs": [
    {
     "data": {
      "image/png": "[encoded data removed]",
      "text/plain": [
       "<Figure size 640x480 with 1 Axes>"
      ]
     },
     "metadata": {},
     "output_type": "display_data"
    }
   ],
   "source": [
    "random_image = np.random.randint(0, X_train.shape[0])\n",
    "plt.imshow(X_train[random_image], cmap = \"gray\")\n",
    "plt.title(\"Category: \" + str(y_train[random_image]))\n",
    "plt.axis(\"off\")\n",
    "plt.show()"
   ]
  },
  {
   "cell_type": "code",
   "execution_count": 100,
   "id": "b2cbedd3-cc91-4338-a14e-9ff13be85f29",
   "metadata": {},
   "outputs": [],
   "source": [
    "# Generating the 3rd Dimenstion for the image as per the requirement of the task\n",
    "X_train = np.expand_dims(X_train, -1)\n",
    "X_test = np.expand_dims(X_test, -1)\n",
    "# X_train = X_train.reshape(X_train.shape[0], 28, 28, 1).astype('float32')\n",
    "# X_test = X_test.reshape(X_test.shape[0], 28, 28, 1).astype('float32')"
   ]
  },
  {
   "cell_type": "code",
   "execution_count": 101,
   "id": "e0f6ae86-f77c-40bd-802d-5388a95c6009",
   "metadata": {},
   "outputs": [],
   "source": [
    "X_train = X_train.astype(\"float32\")\n",
    "X_test = X_test.astype(\"float32\")\n",
    "# X_train = tf.convert_to_tensor(X_train, dtype = tf.int64)\n",
    "# X_test = tf.convert_to_tensor(X_test, dtype = tf.int64)"
   ]
  },
  {
   "cell_type": "code",
   "execution_count": 102,
   "id": "871fe655-776c-4eba-93a1-ddab481b67c5",
   "metadata": {},
   "outputs": [
    {
     "data": {
      "text/plain": [
       "((60000, 28, 28, 1), (10000, 28, 28, 1))"
      ]
     },
     "execution_count": 102,
     "metadata": {},
     "output_type": "execute_result"
    }
   ],
   "source": [
    "X_train.shape, X_test.shape"
   ]
  },
  {
   "cell_type": "code",
   "execution_count": 103,
   "id": "4edf3c85-8bfc-41aa-aa19-35e53d4c5b17",
   "metadata": {},
   "outputs": [],
   "source": [
    "# Normalizing the images between -1 to 1\n",
    "X_train = (X_train - 127.5) / 127.5"
   ]
  },
  {
   "cell_type": "code",
   "execution_count": 104,
   "id": "5c811031-5d8d-407f-938b-a0741f4653b3",
   "metadata": {},
   "outputs": [
    {
     "data": {
      "text/plain": [
       "(-1.0, 1.0)"
      ]
     },
     "execution_count": 104,
     "metadata": {},
     "output_type": "execute_result"
    }
   ],
   "source": [
    "X_train.min(), X_train.max()"
   ]
  },
  {
   "cell_type": "code",
   "execution_count": 105,
   "id": "1b04a17a-a47a-407c-8da2-654ac901498b",
   "metadata": {},
   "outputs": [],
   "source": [
    "batch_size = 64\n",
    "total_images = X_train.shape[0]\n",
    "total_number_of_batches = total_images / batch_size"
   ]
  },
  {
   "cell_type": "code",
   "execution_count": 106,
   "id": "65db06f7-cb2b-4d97-999b-0bc7b25e3cdd",
   "metadata": {},
   "outputs": [
    {
     "data": {
      "text/plain": [
       "937.5"
      ]
     },
     "execution_count": 106,
     "metadata": {},
     "output_type": "execute_result"
    }
   ],
   "source": [
    "total_number_of_batches"
   ]
  },
  {
   "cell_type": "code",
   "execution_count": 107,
   "id": "ec4d343e-6a2c-4ec0-a7be-0c8e0a20304c",
   "metadata": {},
   "outputs": [
    {
     "data": {
      "text/plain": [
       "dtype('float32')"
      ]
     },
     "execution_count": 107,
     "metadata": {},
     "output_type": "execute_result"
    }
   ],
   "source": [
    "X_train[0].dtype"
   ]
  },
  {
   "cell_type": "code",
   "execution_count": 108,
   "id": "ef565658-e7ee-4eb0-bc8e-e52f63275890",
   "metadata": {},
   "outputs": [],
   "source": [
    "# Changing the type of X_train from numpy array to tensorflow batchdataset\n",
    "X_train = tf.data.Dataset.from_tensor_slices(X_train).shuffle(total_images).batch(batch_size)"
   ]
  },
  {
   "cell_type": "code",
   "execution_count": 109,
   "id": "960a7c24-edcd-49c6-a6ac-36a9724ba064",
   "metadata": {},
   "outputs": [
    {
     "data": {
      "text/plain": [
       "tensorflow.python.data.ops.dataset_ops.BatchDataset"
      ]
     },
     "execution_count": 109,
     "metadata": {},
     "output_type": "execute_result"
    }
   ],
   "source": [
    "type(X_train)"
   ]
  },
  {
   "cell_type": "markdown",
   "id": "187eaa1a-1793-47fe-b2c5-ba71be120666",
   "metadata": {},
   "source": [
    "## Creating the Generator for the GANs"
   ]
  },
  {
   "cell_type": "code",
   "execution_count": 114,
   "id": "b163acde-8418-4c4c-9d87-2f33bc64b243",
   "metadata": {},
   "outputs": [],
   "source": [
    "def generator_builder():\n",
    "    model = tf.keras.Sequential()\n",
    "    \n",
    "    # For the Random Noise/Image of a vector shape of 100 \n",
    "    model.add(ly.Dense(units = 7 * 7 * 512, use_bias = False, input_shape = (100, )))\n",
    "    model.add(ly.BatchNormalization())\n",
    "    model.add(ly.LeakyReLU())\n",
    "    \n",
    "    # To Reshape the above flattened vector\n",
    "    model.add(ly.Reshape((7, 7, 512)))\n",
    "    \n",
    "    # Conv2DTranspose Block 1 for generating a bigger image : Image size is 7x7x256\n",
    "    model.add(ly.Conv2DTranspose(filters = 256, kernel_size = (3, 3), padding = \"same\", use_bias = False))\n",
    "    model.add(ly.BatchNormalization())\n",
    "    model.add(ly.LeakyReLU())\n",
    "    \n",
    "    # Conv2DTranspose Block 2 for generating a bigger image : Image size is 14x14x128\n",
    "    model.add(ly.Conv2DTranspose(filters = 128, kernel_size = (3, 3), padding = \"same\", strides = (2, 2), use_bias = False))\n",
    "    model.add(ly.BatchNormalization())\n",
    "    model.add(ly.LeakyReLU())\n",
    "    \n",
    "    # Conv2DTranspose Block 3 for generating a bigger image : Image size is 28x28x1\n",
    "    model.add(ly.Conv2DTranspose(filters = 1, kernel_size = (3, 3), padding = \"same\", strides = (2, 2), use_bias = True, activation = \"tanh\"))\n",
    "    \n",
    "    model.summary()\n",
    "    return model"
   ]
  },
  {
   "cell_type": "code",
   "execution_count": 116,
   "id": "ac5ad47a-0d7e-4a94-9732-7f53f20f0c22",
   "metadata": {},
   "outputs": [
    {
     "name": "stdout",
     "output_type": "stream",
     "text": [
      "Model: \"sequential_3\"\n",
      "_________________________________________________________________\n",
      " Layer (type)                Output Shape              Param #   \n",
      "=================================================================\n",
      " dense_3 (Dense)             (None, 25088)             2508800   \n",
      "                                                                 \n",
      " batch_normalization_6 (Batc  (None, 25088)            100352    \n",
      " hNormalization)                                                 \n",
      "                                                                 \n",
      " leaky_re_lu_6 (LeakyReLU)   (None, 25088)             0         \n",
      "                                                                 \n",
      " reshape_2 (Reshape)         (None, 7, 7, 512)         0         \n",
      "                                                                 \n",
      " conv2d_transpose_4 (Conv2DT  (None, 7, 7, 256)        1179648   \n",
      " ranspose)                                                       \n",
      "                                                                 \n",
      " batch_normalization_7 (Batc  (None, 7, 7, 256)        1024      \n",
      " hNormalization)                                                 \n",
      "                                                                 \n",
      " leaky_re_lu_7 (LeakyReLU)   (None, 7, 7, 256)         0         \n",
      "                                                                 \n",
      " conv2d_transpose_5 (Conv2DT  (None, 14, 14, 128)      294912    \n",
      " ranspose)                                                       \n",
      "                                                                 \n",
      " batch_normalization_8 (Batc  (None, 14, 14, 128)      512       \n",
      " hNormalization)                                                 \n",
      "                                                                 \n",
      " leaky_re_lu_8 (LeakyReLU)   (None, 14, 14, 128)       0         \n",
      "                                                                 \n",
      " conv2d_transpose_6 (Conv2DT  (None, 28, 28, 1)        1153      \n",
      " ranspose)                                                       \n",
      "                                                                 \n",
      "=================================================================\n",
      "Total params: 4,086,401\n",
      "Trainable params: 4,035,457\n",
      "Non-trainable params: 50,944\n",
      "_________________________________________________________________\n"
     ]
    }
   ],
   "source": [
    "# Defining a generator\n",
    "generator = generator_builder()"
   ]
  },
  {
   "cell_type": "code",
   "execution_count": 119,
   "id": "f4e6f300-2ad7-4431-bdde-b509d4d03013",
   "metadata": {},
   "outputs": [
    {
     "data": {
      "text/plain": [
       "<KerasTensor: shape=(None, 100) dtype=float32 (created by layer 'dense_3_input')>"
      ]
     },
     "execution_count": 119,
     "metadata": {},
     "output_type": "execute_result"
    }
   ],
   "source": [
    "generator.input"
   ]
  },
  {
   "cell_type": "code",
   "execution_count": 120,
   "id": "1fc0cf48-4730-4944-9b8c-0a13f8388859",
   "metadata": {},
   "outputs": [],
   "source": [
    "random_noise = tf.random.normal([1, 100])"
   ]
  },
  {
   "cell_type": "code",
   "execution_count": 121,
   "id": "34c5a9df-4741-491f-8022-59a3a57a4dfa",
   "metadata": {},
   "outputs": [
    {
     "data": {
      "text/plain": [
       "<tf.Tensor: shape=(1, 100), dtype=float32, numpy=\n",
       "array([[ 0.07399955,  0.4418197 , -0.42029044,  0.3528369 , -1.5195401 ,\n",
       "         0.5627583 ,  1.5703695 , -0.27022937, -0.75913537,  0.9561205 ,\n",
       "         0.76884   , -0.9379511 ,  0.2987878 , -1.2310134 , -0.41081038,\n",
       "         1.952765  , -0.29831263,  0.18207571,  0.19739448,  0.51675117,\n",
       "         0.2914938 , -0.9856544 , -0.6427645 ,  0.775242  ,  0.41495836,\n",
       "         1.0179718 , -1.3159829 ,  0.6281537 , -0.90272576,  0.11016165,\n",
       "         0.13467327,  0.90947497,  0.18068807,  1.3037506 , -1.19341   ,\n",
       "        -1.1975288 ,  0.6937465 , -1.0313374 ,  0.09066112,  1.3569673 ,\n",
       "         0.5120963 , -1.4577396 , -2.010946  ,  0.55753684, -0.5484317 ,\n",
       "         0.61109865,  0.09882175, -0.6403067 , -0.03540858,  0.88208383,\n",
       "         0.57447827, -1.4577205 , -1.7406185 ,  0.4336721 , -1.2524939 ,\n",
       "         1.7157068 , -1.2084976 ,  1.0526701 , -0.3296681 , -1.6240891 ,\n",
       "        -1.2011055 , -1.5513663 , -0.23325479,  0.1128914 , -2.0134032 ,\n",
       "         0.376605  ,  1.1074653 ,  0.4481263 ,  0.03229615, -1.0361096 ,\n",
       "         0.47676757, -0.64117986,  1.1945149 ,  0.78270143,  0.6750195 ,\n",
       "        -0.74433106,  0.32930994,  0.7381085 , -0.23309425,  1.129358  ,\n",
       "        -0.5197178 ,  0.9140839 , -0.69327545,  0.26136243,  1.5500525 ,\n",
       "         0.7951871 , -1.6132851 ,  0.14126663, -0.4961876 ,  1.206834  ,\n",
       "         0.91622984,  1.8846396 ,  0.47382948,  0.36241335, -0.44966334,\n",
       "        -0.00354051, -1.3847507 , -1.1755476 , -1.1453044 , -0.24709773]],\n",
       "      dtype=float32)>"
      ]
     },
     "execution_count": 121,
     "metadata": {},
     "output_type": "execute_result"
    }
   ],
   "source": [
    "random_noise"
   ]
  },
  {
   "cell_type": "code",
   "execution_count": 132,
   "id": "ec3e9397-5bdb-41e8-88f7-bcb7fa1ced13",
   "metadata": {},
   "outputs": [],
   "source": [
    "random_image_generated_from_generator = generator(random_noise, training = False)"
   ]
  },
  {
   "cell_type": "code",
   "execution_count": 133,
   "id": "32e581f4-6204-4280-8974-7bd583c6348f",
   "metadata": {},
   "outputs": [
    {
     "data": {
      "text/plain": [
       "TensorShape([1, 28, 28, 1])"
      ]
     },
     "execution_count": 133,
     "metadata": {},
     "output_type": "execute_result"
    }
   ],
   "source": [
    "random_image_generated_from_generator.shape"
   ]
  },
  {
   "cell_type": "code",
   "execution_count": 134,
   "id": "5ba5f49e-a7cd-42b0-a443-db1eee2b124d",
   "metadata": {},
   "outputs": [
    {
     "data": {
      "image/png": "[encoded data removed]",
      "text/plain": [
       "<Figure size 640x480 with 1 Axes>"
      ]
     },
     "metadata": {},
     "output_type": "display_data"
    }
   ],
   "source": [
    "plt.imshow(random_image_generated_from_generator[0], cmap = \"gray\")\n",
    "plt.axis(\"off\")\n",
    "plt.show()"
   ]
  },
  {
   "cell_type": "code",
   "execution_count": null,
   "id": "74261c3c-1d1c-4f60-8fbf-8b26adec5c91",
   "metadata": {},
   "outputs": [],
   "source": []
  }
 ],
 "metadata": {
  "kernelspec": {
   "display_name": "Python 3 (ipykernel)",
   "language": "python",
   "name": "python3"
  },
  "language_info": {
   "codemirror_mode": {
    "name": "ipython",
    "version": 3
   },
   "file_extension": ".py",
   "mimetype": "text/x-python",
   "name": "python",
   "nbconvert_exporter": "python",
   "pygments_lexer": "ipython3",
   "version": "3.10.9"
  }
 },
 "nbformat": 4,
 "nbformat_minor": 5
}
